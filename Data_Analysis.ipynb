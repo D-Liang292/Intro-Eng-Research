{
 "cells": [
  {
   "cell_type": "markdown",
   "metadata": {
    "collapsed": true,
    "pycharm": {
     "name": "#%% md\n"
    }
   },
   "source": [
    "# Fitbit Data\n",
    "* This is the Jupyter notebook for course ME41125 Introduction to Engineering\n",
    "* Copyright (c) Dongliang Liu 2022\n",
    "\n",
    "## 1. Setup Enviroment\n",
    "* In this section, we import some necessary environments"
   ]
  },
  {
   "cell_type": "code",
   "execution_count": 47,
   "metadata": {
    "pycharm": {
     "name": "#%%\n"
    }
   },
   "outputs": [],
   "source": [
    "import numpy as np\n",
    "from scipy import stats as st\n",
    "import scipy as sp\n",
    "import matplotlib.pyplot as plt\n",
    "import pandas as pd\n",
    "from IPython.core.interactiveshell import InteractiveShell\n",
    "InteractiveShell.ast_node_interactivity = \"all\"\n",
    "from IPython.display import display"
   ]
  },
  {
   "cell_type": "markdown",
   "source": [
    "## 2. Read Data\n",
    "\n",
    "### 2.1 Basics\n",
    "* read data from the given dataset (Data_IER_2022.csv)\n",
    "* pandas env required\n",
    "* note that some formats in the dataset cannot be read w/o adding the option \"encoding\", see [the answer here](https://stackoverflow.com/questions/18171739/unicodedecodeerror-when-reading-csv-file-in-pandas-with-python)\n",
    "\n",
    "### 2.2 Note about the data\n",
    "* students with ID 1 to 94 are measured before the COVID outbreak (year 2019).
    "* students with ID 95 to 193 are measured during the outbreak\n",
    "* students with ID 194 to 278 are measured after the outbreak\n",
    "* Data w/o gender info should be shoule be deleted"
   ],
   "metadata": {
    "collapsed": false,
    "pycharm": {
     "name": "#%% md\n"
    }
   }
  },
  {
   "cell_type": "code",
   "execution_count": 48,
   "outputs": [],
   "source": [
    "data_original = pd.read_csv(\"Data_IER_2022.csv\", encoding = \"ISO-8859-1\")\n",
    "data = data_original.dropna(subset=['gender']) #delete data that has no gender information\n"
   ],
   "metadata": {
    "collapsed": false,
    "pycharm": {
     "name": "#%%\n"
    }
   }
  },
  {
   "cell_type": "markdown",
   "source": [
    "## 2. Data Preparation\n",
    "\n",
    "### 2.1 Slicing data\n",
    "* firstly, slice the data, the only columns of interest are: student ID, year, gender, bmi, living condition, stap_om_X_cal, and wear_X\n",
    "* secondly, divide the sliced data table into 3 sub-table, each table corresponds to a year"
   ],
   "metadata": {
    "collapsed": false
   }
  },
  {
   "cell_type": "code",
   "execution_count": 49,
   "outputs": [],
   "source": [
    "data_cal_original = data[['ID',\n",
    "                 'year',\n",
    "                 'gender',\n",
    "                 'bmi',\n",
    "                 'living',\n",
    "                 'stap_om_1_cal',\n",
    "                 'stap_om_2_cal',\n",
    "                 'stap_om_3_cal',\n",
    "                 'stap_om_4_cal',\n",
    "                 'stap_om_5_cal',\n",
    "                 'stap_om_6_cal',\n",
    "                 'stap_om_7_cal',\n",
    "                 'wear_1',\n",
    "                 'wear_2',\n",
    "                 'wear_3',\n",
    "                 'wear_4',\n",
    "                 'wear_5',\n",
    "                 'wear_6',\n",
    "                 'wear_7']]\n",
    "\n",
    "data_cal_2019_original = data_cal_original[ : 91]\n",
    "data_cal_2020_original = data_cal_original[91 : 91 + data.year.value_counts()[2020]]\n",
    "data_cal_2021_original = data_cal_original[91 + data.year.value_counts()[2020] : ]"
   ],
   "metadata": {
    "collapsed": false,
    "pycharm": {
     "name": "#%%\n"
    }
   }
  },
  {
   "cell_type": "markdown",
   "source": [
    "\n",
    "### 2.2 Delete unphysical data\n",
    "\n",
    "* drop any rows that contains a NaN value in the recorded calories"
   ],
   "metadata": {
    "collapsed": false
   }
  },
  {
   "cell_type": "code",
   "execution_count": 50,
   "outputs": [],
   "source": [
    "data_cal_2019_nona = data_cal_2019_original.dropna(axis= 'rows', subset= ['stap_om_1_cal','stap_om_2_cal',\n",
    "                 'stap_om_3_cal',\n",
    "                 'stap_om_4_cal',\n",
    "                 'stap_om_5_cal',\n",
    "                 'stap_om_6_cal',\n",
    "                 'stap_om_7_cal',])\n",
    "data_cal_2020_nona = data_cal_2020_original.dropna(axis= 'rows', subset= ['stap_om_1_cal','stap_om_2_cal',\n",
    "                 'stap_om_3_cal',\n",
    "                 'stap_om_4_cal',\n",
    "                 'stap_om_5_cal',\n",
    "                 'stap_om_6_cal',\n",
    "                 'stap_om_7_cal',])\n",
    "data_cal_2021_nona = data_cal_2021_original.dropna(axis= 'rows', subset= ['stap_om_1_cal','stap_om_2_cal',\n",
    "                 'stap_om_3_cal',\n",
    "                 'stap_om_4_cal',\n",
    "                 'stap_om_5_cal',\n",
    "                 'stap_om_6_cal',\n",
    "                 'stap_om_7_cal',])"
   ],
   "metadata": {
    "collapsed": false,
    "pycharm": {
     "name": "#%%\n"
    }
   }
  },
  {
   "cell_type": "markdown",
   "source": [
    "### 2.3 Modify data according to students' performance\n",
    "* drop student that did not wear the device for more than 3 days\n",
    "* How to do so?\n",
    "  * First, check if someone did not wear it at all!\n",
    "  * Second, if someone did wear it, count how many days he/she had worn it?\n",
    "  * Third, record the row's index if the condition is not satisfied!\n",
    "* there are two indexing system:\n",
    "  * iloc system: indexing from 0, no matter what table, the index ALWAYS start from 0;\n",
    "  * automatic index generated by pandas, this is the actual index of a current table"
   ],
   "metadata": {
    "collapsed": false
   }
  },
  {
   "cell_type": "code",
   "execution_count": 51,
   "outputs": [],
   "source": [
    "#2019\n",
    "bad_row_2019 = np.array([])\n",
    "\n",
    "for i in range(len(data_cal_2019_nona)):\n",
    "    if 'Yes' in set(data_cal_2019_nona.iloc[i]): #convert series to set in order to check if a string is in it\n",
    "        if data_cal_2019_nona.iloc[i].value_counts()['Yes'] < 4:\n",
    "            #print(i)\n",
    "            bad_row_2019 = np.append(bad_row_2019, data_cal_2019_nona.iloc[i].name) #data_cal_2019_nona.iloc[i].name returns the actual index of the row (NOTE THAT THE iloc index that based on 0)\n",
    "    else:\n",
    "        bad_row_2019 = np.append(bad_row_2019, data_cal_2019_nona.iloc[i].name)\n",
    "\n",
    "data_cal_2019 = data_cal_2019_nona.drop(bad_row_2019)\n",
    "\n",
    "# 2020\n",
    "bad_row_2020 = np.array([])\n",
    "\n",
    "for i in range(len(data_cal_2020_nona)):\n",
    "    if 'Yes' in set(data_cal_2020_nona.iloc[i]): #convert series to set in order to check if a string is in it\n",
    "        if data_cal_2020_nona.iloc[i].value_counts()['Yes'] < 4:\n",
    "            #print(i)\n",
    "            bad_row_2020 = np.append(bad_row_2020, data_cal_2020_nona.iloc[i].name) #data_cal_2020_nona.iloc[i].name returns the actual index of the row (NOT THE iloc index that based on 0)\n",
    "    else:\n",
    "        bad_row_2020 = np.append(bad_row_2020, data_cal_2020_nona.iloc[i].name)\n",
    "\n",
    "data_cal_2020 = data_cal_2020_nona.drop(bad_row_2020)\n",
    "\n",
    "#2021\n",
    "bad_row_2021 = np.array([])\n",
    "\n",
    "for i in range(len(data_cal_2021_nona)):\n",
    "    if 'Yes' in set(data_cal_2021_nona.iloc[i]): #convert series to set in order to check if a string is in it\n",
    "        if data_cal_2021_nona.iloc[i].value_counts()['Yes'] < 4:\n",
    "            #print(i)\n",
    "            bad_row_2021 = np.append(bad_row_2021, data_cal_2021_nona.iloc[i].name) #data_cal_2021_nona.iloc[i].name returns the actual index of the row (NOT THE iloc index that based on 0)\n",
    "    else:\n",
    "        bad_row_2021 = np.append(bad_row_2021, data_cal_2021_nona.iloc[i].name)\n",
    "\n",
    "data_cal_2021 = data_cal_2021_nona.drop(bad_row_2021)"
   ],
   "metadata": {
    "collapsed": false,
    "pycharm": {
     "name": "#%%\n"
    }
   }
  },
  {
   "cell_type": "markdown",
   "source": [
    "* modify the values of certain days that the participant did not wear the device\n",
    "* how to do so?\n",
    "  * if the participant wears the device for 7 days, skip the good participant\n",
    "  * if the participant did NOT wear the device for 7 days, find out on which day he/she wears the device\n",
    "  * extract values when he/she wears the device\n",
    "  * calculate the mean of the extracted array\n",
    "  * use the mean to modify"
   ],
   "metadata": {
    "collapsed": false
   }
  },
  {
   "cell_type": "code",
   "execution_count": 52,
   "outputs": [],
   "source": [
    "### 2019\n",
    "# notation 1: bad day-- the day that participant did not wear device\n",
    "# notation 2: good day -- the day that the participant did wear the device\n",
    "for i in range(len(data_cal_2019)): # the variable i is used to go through all students to modify their no values\n",
    "    if data_cal_2019.iloc[i].value_counts()['Yes'] < 7: # good student that wore the device for 7 days are excluded\n",
    "        yes_loc = data_cal_2019.iloc[i][data_cal_2019.iloc[i] == 'Yes'] # yes_loc is a SERIES that store info of which colume has Yes\n",
    "        yes_loc_list = yes_loc.index.tolist() # convert the SERIES yes_loc into list\n",
    "        SUM = 0 # in order to calculate the mean of yes days, initialize a variable to calculate the sum\n",
    "        for j in range(len(yes_loc_list)): # this for loop with j is solely used to calculate the mean of good days\n",
    "            YES_LOCATION = data_cal_2019.columns.get_loc(yes_loc_list[j])# location corresponds to days that participants have worn device\n",
    "            SUM = SUM + data_cal_2019.iloc[i][YES_LOCATION - 7]\n",
    "            MEAN = SUM / len(yes_loc_list) # the mean of good days\n",
    "        no_loc = data_cal_2019.iloc[i][data_cal_2019.iloc[i] == 'No'] # location of bad days\n",
    "        no_loc_list = no_loc.index.tolist()\n",
    "        for k in range(len(no_loc_list)): # the for loop is used to update all values of bad days\n",
    "            NO_LOCATION = data_cal_2019.columns.get_loc(no_loc_list[k])\n",
    "            data_cal_2019.iat[i, NO_LOCATION-7] = MEAN # use iat to locate the bad-day value and update it\n",
    "### a step-by-step example for 2019\n",
    "# i = 2\n",
    "# data_cal_2019.iloc[2].value_counts()['Yes']\n",
    "# yes_loc = data_cal_2019.iloc[2][data_cal_2019.iloc[2] == 'Yes']\n",
    "# yes_loc_list = yes_loc.index.tolist()\n",
    "# SUM = 0\n",
    "# for j in range(len(yes_loc_list)):\n",
    "#     YES_LOCATION = data_cal_2019.columns.get_loc(yes_loc_list[j])# location corresponds to days that participants have worn device\n",
    "#     SUM = SUM + data_cal_2019.iloc[2][YES_LOCATION - 7]\n",
    "#     MEAN = SUM / len(yes_loc_list)\n",
    "# no_loc = data_cal_2019.iloc[2][data_cal_2019.iloc[2] == 'No']\n",
    "# no_loc_list = no_loc.index.tolist()\n",
    "# #for k in range(len(no_loc_list)):\n",
    "# NO_LOCATION = data_cal_2019.columns.get_loc(no_loc_list[0])\n",
    "# data_cal_2019.iat[2, NO_LOCATION-7] = 5000 # use iat to locate the value to be updated\n",
    "#\n",
    "\n",
    "### 2020\n",
    "for i in range(len(data_cal_2020)):\n",
    "    if data_cal_2020.iloc[i].value_counts()['Yes'] < 7:\n",
    "        yes_loc = data_cal_2020.iloc[i][data_cal_2020.iloc[i] == 'Yes'] # yes_loc is a series that store info of which colume has Yes\n",
    "        yes_loc_list = yes_loc.index.tolist() # convert yes_loc into list\n",
    "        SUM = 0\n",
    "        for j in range(len(yes_loc_list)):\n",
    "            YES_LOCATION = data_cal_2020.columns.get_loc(yes_loc_list[j])# location corresponds to days that participants have worn device\n",
    "            SUM = SUM + data_cal_2020.iloc[i][YES_LOCATION - 7]\n",
    "            MEAN = SUM / len(yes_loc_list)\n",
    "        no_loc = data_cal_2020.iloc[i][data_cal_2020.iloc[i] == 'No']\n",
    "        no_loc_list = no_loc.index.tolist()\n",
    "        for k in range(len(no_loc_list)):\n",
    "            NO_LOCATION = data_cal_2020.columns.get_loc(no_loc_list[k])\n",
    "            data_cal_2020.iat[i, NO_LOCATION-7] = MEAN # use iat to locate the value to be updated\n",
    "\n",
    "### 2021\n",
    "for i in range(len(data_cal_2021)):\n",
    "    if data_cal_2021.iloc[i].value_counts()['Yes'] < 7:\n",
    "        yes_loc = data_cal_2021.iloc[i][data_cal_2021.iloc[i] == 'Yes'] # yes_loc is a series that store info of which colume has Yes\n",
    "        yes_loc_list = yes_loc.index.tolist() # convert yes_loc into list\n",
    "        SUM = 0\n",
    "        for j in range(len(yes_loc_list)):\n",
    "            YES_LOCATION = data_cal_2021.columns.get_loc(yes_loc_list[j])# location corresponds to days that participants have worn device\n",
    "            SUM = SUM + data_cal_2021.iloc[i][YES_LOCATION - 7]\n",
    "            MEAN = SUM / len(yes_loc_list)\n",
    "        no_loc = data_cal_2021.iloc[i][data_cal_2021.iloc[i] == 'No']\n",
    "        no_loc_list = no_loc.index.tolist()\n",
    "        for k in range(len(no_loc_list)):\n",
    "            NO_LOCATION = data_cal_2021.columns.get_loc(no_loc_list[k])\n",
    "            data_cal_2021.iat[i, NO_LOCATION-7] = MEAN # use iat to locate the value to be updated"
   ],
   "metadata": {
    "collapsed": false,
    "pycharm": {
     "name": "#%%\n"
    }
   }
  },
  {
   "cell_type": "markdown",
   "source": [
    "* Up till now, *all dataset is well-prepared*\n",
    "* now the latest dataset is\n",
    "  `data_cal_2019`\n",
    "  `data_cal_2020`\n",
    "  `data_cal_2021`\n",
    "* we shall use these three dataset to carry out calculation"
   ],
   "metadata": {
    "collapsed": false
   }
  },
  {
   "cell_type": "markdown",
   "source": [
    "## 3. Table One\n",
    "* this section create Table one step-by-step\n",
    "* only demographical information are: gender info, bmi info, and living condition info\n",
    "* notation reminder: SD --- standard deviation\n",
    "\n",
    "### 3.1 Year 2019\n",
    "* display the information of students in 2019\n",
    "* Results in sequence:\n",
    "  * number of students\n",
    "  * Gender info\n",
    "  * living condition\n",
    "  * BMI info"
   ],
   "metadata": {
    "collapsed": false
   }
  },
  {
   "cell_type": "code",
   "execution_count": 53,
   "outputs": [
    {
     "name": "stdout",
     "output_type": "stream",
     "text": [
      "Students in 2019:  67\n",
      "-------------\n"
     ]
    },
    {
     "data": {
      "text/plain": "Female    44\nMale      23\nName: gender, dtype: int64"
     },
     "metadata": {},
     "output_type": "display_data"
    },
    {
     "name": "stdout",
     "output_type": "stream",
     "text": [
      "-------------\n"
     ]
    },
    {
     "data": {
      "text/plain": "Living_with_parents    38\nMoved_out              29\nName: living, dtype: int64"
     },
     "metadata": {},
     "output_type": "display_data"
    },
    {
     "name": "stdout",
     "output_type": "stream",
     "text": [
      "-------------\n",
      "Mean of BMI:  20.851194029850745\n",
      "SD of BMI:  2.2819359951638485\n"
     ]
    }
   ],
   "source": [
    "print(\"Students in 2019: \", data_cal_2019.year.value_counts()[2019])\n",
    "print('-------------')\n",
    "display(data_cal_2019['gender'].value_counts())\n",
    "print('-------------')\n",
    "display(data_cal_2019['living'].value_counts())\n",
    "print('-------------')\n",
    "print(\"Mean of BMI: \", data_cal_2019.bmi.mean())\n",
    "print(\"SD of BMI: \", data_cal_2019.bmi.std())"
   ],
   "metadata": {
    "collapsed": false,
    "pycharm": {
     "name": "#%%\n"
    }
   }
  },
  {
   "cell_type": "markdown",
   "source": [
    "### 3.2 Year 2020\n",
    "* display the information of students in 2020\n",
    "* Results in sequence:\n",
    "  * number of students\n",
    "  * Gender info\n",
    "  * living condition\n",
    "  * BMI info (note that when calculating the standard deviation (SD), pandas will aumatically exclued NaN values)"
   ],
   "metadata": {
    "collapsed": false
   }
  },
  {
   "cell_type": "code",
   "execution_count": 54,
   "outputs": [
    {
     "name": "stdout",
     "output_type": "stream",
     "text": [
      "Students in 2020:  78\n",
      "-------------\n"
     ]
    },
    {
     "data": {
      "text/plain": "Female    50\nMale      28\nName: gender, dtype: int64"
     },
     "metadata": {},
     "output_type": "display_data"
    },
    {
     "name": "stdout",
     "output_type": "stream",
     "text": [
      "-------------\n"
     ]
    },
    {
     "data": {
      "text/plain": "Living_with_parents    45\nMoved_out              33\nName: living, dtype: int64"
     },
     "metadata": {},
     "output_type": "display_data"
    },
    {
     "name": "stdout",
     "output_type": "stream",
     "text": [
      "-------------\n",
      "Mean of BMI:  21.182666666666663\n",
      "SD of BMI:  2.4335144940584996\n"
     ]
    }
   ],
   "source": [
    "print(\"Students in 2020: \", data_cal_2020.year.value_counts()[2020])\n",
    "print('-------------')\n",
    "display(data_cal_2020['gender'].value_counts())\n",
    "print('-------------')\n",
    "display(data_cal_2020['living'].value_counts())\n",
    "print('-------------')\n",
    "print(\"Mean of BMI: \", data_cal_2020.bmi.mean())\n",
    "print(\"SD of BMI: \", data_cal_2020.bmi.std())"
   ],
   "metadata": {
    "collapsed": false,
    "pycharm": {
     "name": "#%%\n"
    }
   }
  },
  {
   "cell_type": "markdown",
   "source": [
    "### 3.3 Year 2021\n",
    "* display the information of students in 2020\n",
    "* Results in sequence:\n",
    "  * number of students\n",
    "  * Gender info\n",
    "  * living condition\n",
    "  * BMI info (note that when calculating the standard deviation (SD), pandas will aumatically exclued NaN values)"
   ],
   "metadata": {
    "collapsed": false
   }
  },
  {
   "cell_type": "code",
   "execution_count": 55,
   "outputs": [
    {
     "name": "stdout",
     "output_type": "stream",
     "text": [
      "Students in 2021:  71\n",
      "-------------\n"
     ]
    },
    {
     "data": {
      "text/plain": "Female    50\nMale      21\nName: gender, dtype: int64"
     },
     "metadata": {},
     "output_type": "display_data"
    },
    {
     "name": "stdout",
     "output_type": "stream",
     "text": [
      "-------------\n"
     ]
    },
    {
     "data": {
      "text/plain": "Living_with_parents    38\nMoved_out              33\nName: living, dtype: int64"
     },
     "metadata": {},
     "output_type": "display_data"
    },
    {
     "name": "stdout",
     "output_type": "stream",
     "text": [
      "-------------\n",
      "Mean of BMI:  21.59514285714285\n",
      "SD of BMI:  2.3456340837092187\n"
     ]
    }
   ],
   "source": [
    "print(\"Students in 2021: \", data_cal_2021['year'].value_counts()[2021])\n",
    "print('-------------')\n",
    "display(data_cal_2021['gender'].value_counts())\n",
    "print('-------------')\n",
    "display(data_cal_2021['living'].value_counts())\n",
    "print('-------------')\n",
    "print(\"Mean of BMI: \", data_cal_2021.bmi.mean())\n",
    "print(\"SD of BMI: \", data_cal_2021.bmi.std())"
   ],
   "metadata": {
    "collapsed": false,
    "pycharm": {
     "name": "#%%\n"
    }
   }
  },
  {
   "cell_type": "markdown",
   "source": [
    "## 4. Data Analysis"
   ],
   "metadata": {
    "collapsed": false,
    "pycharm": {
     "name": "#%% md\n"
    }
   }
  },
  {
   "cell_type": "code",
   "execution_count": 56,
   "outputs": [
    {
     "name": "stdout",
     "output_type": "stream",
     "text": [
      "Mean and SD of 2019:\n"
     ]
    },
    {
     "data": {
      "text/plain": "1166.199502487562"
     },
     "execution_count": 56,
     "metadata": {},
     "output_type": "execute_result"
    },
    {
     "data": {
      "text/plain": "476.6094446649757"
     },
     "execution_count": 56,
     "metadata": {},
     "output_type": "execute_result"
    },
    {
     "name": "stdout",
     "output_type": "stream",
     "text": [
      "------------------------------\n",
      "Mean and SD of 2020:\n"
     ]
    },
    {
     "data": {
      "text/plain": "791.8574786324785"
     },
     "execution_count": 56,
     "metadata": {},
     "output_type": "execute_result"
    },
    {
     "data": {
      "text/plain": "1065.9102549562192"
     },
     "execution_count": 56,
     "metadata": {},
     "output_type": "execute_result"
    },
    {
     "name": "stdout",
     "output_type": "stream",
     "text": [
      "------------------------------\n",
      "Mean and SD of 2021:\n"
     ]
    },
    {
     "data": {
      "text/plain": "982.869248826291"
     },
     "execution_count": 56,
     "metadata": {},
     "output_type": "execute_result"
    },
    {
     "data": {
      "text/plain": "501.6714664352566"
     },
     "execution_count": 56,
     "metadata": {},
     "output_type": "execute_result"
    },
    {
     "name": "stdout",
     "output_type": "stream",
     "text": [
      "------------------------------\n",
      "t-test result of 2019 and 2020\n"
     ]
    },
    {
     "data": {
      "text/plain": "Ttest_indResult(statistic=2.65475272688352, pvalue=0.00883625203604298)"
     },
     "execution_count": 56,
     "metadata": {},
     "output_type": "execute_result"
    },
    {
     "name": "stdout",
     "output_type": "stream",
     "text": [
      "------------------------------\n",
      "t-test result of 2020 and 2021\n"
     ]
    },
    {
     "data": {
      "text/plain": "Ttest_indResult(statistic=-1.377199639358352, pvalue=0.17054401173322078)"
     },
     "execution_count": 56,
     "metadata": {},
     "output_type": "execute_result"
    },
    {
     "name": "stdout",
     "output_type": "stream",
     "text": [
      "------------------------------\n"
     ]
    },
    {
     "data": {
      "text/plain": "Ttest_indResult(statistic=2.19815517430342, pvalue=0.02962953874747101)"
     },
     "execution_count": 56,
     "metadata": {},
     "output_type": "execute_result"
    }
   ],
   "source": [
    "col_to_sum = ['stap_om_1_cal',\n",
    "              'stap_om_2_cal',\n",
    "              'stap_om_3_cal',\n",
    "              'stap_om_4_cal',\n",
    "              'stap_om_5_cal',\n",
    "              'stap_om_6_cal',\n",
    "              'stap_om_7_cal']\n",
    "tot_cal_2019 = data_cal_2019[col_to_sum].sum(axis= 1)\n",
    "tot_cal_2020 = data_cal_2020[col_to_sum].sum(axis= 1)\n",
    "tot_cal_2021 = data_cal_2021[col_to_sum].sum(axis= 1)\n",
    "\n",
    "# 2019 and 2020\n",
    "print('Mean and SD of 2019:')\n",
    "tot_cal_2019.mean()\n",
    "tot_cal_2019.std()\n",
    "print('------------------------------')\n",
    "print('Mean and SD of 2020:')\n",
    "tot_cal_2020.mean()\n",
    "tot_cal_2020.std()\n",
    "print('------------------------------')\n",
    "print('Mean and SD of 2021:')\n",
    "tot_cal_2021.mean()\n",
    "tot_cal_2021.std()\n",
    "print('------------------------------')\n",
    "print('t-test result of 2019 and 2020')\n",
    "st.ttest_ind(tot_cal_2019,tot_cal_2020)\n",
    "print('------------------------------')\n",
    "print('t-test result of 2020 and 2021')\n",
    "st.ttest_ind(tot_cal_2020,tot_cal_2021)\n",
    "print('------------------------------')\n",
    "st.ttest_ind(tot_cal_2019,tot_cal_2021)"
   ],
   "metadata": {
    "collapsed": false,
    "pycharm": {
     "name": "#%%\n"
    }
   }
  }
 ],
 "metadata": {
  "kernelspec": {
   "display_name": "Python 3 (ipykernel)",
   "language": "python",
   "name": "python3"
  },
  "language_info": {
   "codemirror_mode": {
    "name": "ipython",
    "version": 3
   },
   "file_extension": ".py",
   "mimetype": "text/x-python",
   "name": "python",
   "nbconvert_exporter": "python",
   "pygments_lexer": "ipython3",
   "version": "3.9.7"
  }
 },
 "nbformat": 4,
 "nbformat_minor": 1
}
